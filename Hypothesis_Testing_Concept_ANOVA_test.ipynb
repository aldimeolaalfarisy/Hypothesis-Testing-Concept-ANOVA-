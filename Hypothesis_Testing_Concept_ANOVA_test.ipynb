{
  "nbformat": 4,
  "nbformat_minor": 0,
  "metadata": {
    "colab": {
      "provenance": []
    },
    "kernelspec": {
      "name": "python3",
      "display_name": "Python 3"
    },
    "language_info": {
      "name": "python"
    }
  },
  "cells": [
    {
      "cell_type": "markdown",
      "source": [
        "# **Introduction**"
      ],
      "metadata": {
        "id": "eGhW87BZT8jZ"
      }
    },
    {
      "cell_type": "markdown",
      "source": [
        "ANOVA (Analysis of Variance) is a statistical technique that is used to check if the means of two or more groups are significantly different from each other. ANOVA test is a way to find out if survey or experiment results are significant and the impact of one or more factors by comparing the means of different samples. In other words, they help you to figure out if you need to reject the null hypothesis (H0) or accept the alternate hypothesis (H1). Using Customer Personality Analysis dataset from [kaggle](https://www.kaggle.com/datasets/imakash3011/customer-personality-analysis?resource=download). We will do hypothesis testing to prove whether people Education has an effect on people Income or not."
      ],
      "metadata": {
        "id": "4FjyBIKGT2Vf"
      }
    },
    {
      "cell_type": "code",
      "source": [
        "import pandas as pd\n",
        "import numpy as np\n",
        "import seaborn as sns\n",
        "import matplotlib.pyplot as plt\n",
        "import scipy.stats as st"
      ],
      "metadata": {
        "id": "d8to47DMVk__"
      },
      "execution_count": null,
      "outputs": []
    },
    {
      "cell_type": "markdown",
      "source": [
        "# **Data Preparation**"
      ],
      "metadata": {
        "id": "fL8ecPt8YIj7"
      }
    },
    {
      "cell_type": "code",
      "execution_count": null,
      "metadata": {
        "id": "J7lDGtmbTvQy"
      },
      "outputs": [],
      "source": [
        "# Load dataset\n",
        "df = pd.read_csv('marketing_campaign.csv', sep = '\\t')"
      ]
    },
    {
      "cell_type": "code",
      "source": [
        "# Select required columns\n",
        "df = df[['Education','Income']]\n",
        "df.sample(3)"
      ],
      "metadata": {
        "colab": {
          "base_uri": "https://localhost:8080/",
          "height": 143
        },
        "id": "hSwMqfq7WCRO",
        "outputId": "44284753-7abb-43c6-9de4-32d9ed403f35"
      },
      "execution_count": null,
      "outputs": [
        {
          "output_type": "execute_result",
          "data": {
            "text/plain": [
              "       Education   Income\n",
              "690          PhD  50611.0\n",
              "2095         PhD  48699.0\n",
              "1247  Graduation  40521.0"
            ],
            "text/html": [
              "\n",
              "  <div id=\"df-0eafa2a5-4af4-46f5-8506-536364b19b6d\">\n",
              "    <div class=\"colab-df-container\">\n",
              "      <div>\n",
              "<style scoped>\n",
              "    .dataframe tbody tr th:only-of-type {\n",
              "        vertical-align: middle;\n",
              "    }\n",
              "\n",
              "    .dataframe tbody tr th {\n",
              "        vertical-align: top;\n",
              "    }\n",
              "\n",
              "    .dataframe thead th {\n",
              "        text-align: right;\n",
              "    }\n",
              "</style>\n",
              "<table border=\"1\" class=\"dataframe\">\n",
              "  <thead>\n",
              "    <tr style=\"text-align: right;\">\n",
              "      <th></th>\n",
              "      <th>Education</th>\n",
              "      <th>Income</th>\n",
              "    </tr>\n",
              "  </thead>\n",
              "  <tbody>\n",
              "    <tr>\n",
              "      <th>690</th>\n",
              "      <td>PhD</td>\n",
              "      <td>50611.0</td>\n",
              "    </tr>\n",
              "    <tr>\n",
              "      <th>2095</th>\n",
              "      <td>PhD</td>\n",
              "      <td>48699.0</td>\n",
              "    </tr>\n",
              "    <tr>\n",
              "      <th>1247</th>\n",
              "      <td>Graduation</td>\n",
              "      <td>40521.0</td>\n",
              "    </tr>\n",
              "  </tbody>\n",
              "</table>\n",
              "</div>\n",
              "      <button class=\"colab-df-convert\" onclick=\"convertToInteractive('df-0eafa2a5-4af4-46f5-8506-536364b19b6d')\"\n",
              "              title=\"Convert this dataframe to an interactive table.\"\n",
              "              style=\"display:none;\">\n",
              "        \n",
              "  <svg xmlns=\"http://www.w3.org/2000/svg\" height=\"24px\"viewBox=\"0 0 24 24\"\n",
              "       width=\"24px\">\n",
              "    <path d=\"M0 0h24v24H0V0z\" fill=\"none\"/>\n",
              "    <path d=\"M18.56 5.44l.94 2.06.94-2.06 2.06-.94-2.06-.94-.94-2.06-.94 2.06-2.06.94zm-11 1L8.5 8.5l.94-2.06 2.06-.94-2.06-.94L8.5 2.5l-.94 2.06-2.06.94zm10 10l.94 2.06.94-2.06 2.06-.94-2.06-.94-.94-2.06-.94 2.06-2.06.94z\"/><path d=\"M17.41 7.96l-1.37-1.37c-.4-.4-.92-.59-1.43-.59-.52 0-1.04.2-1.43.59L10.3 9.45l-7.72 7.72c-.78.78-.78 2.05 0 2.83L4 21.41c.39.39.9.59 1.41.59.51 0 1.02-.2 1.41-.59l7.78-7.78 2.81-2.81c.8-.78.8-2.07 0-2.86zM5.41 20L4 18.59l7.72-7.72 1.47 1.35L5.41 20z\"/>\n",
              "  </svg>\n",
              "      </button>\n",
              "      \n",
              "  <style>\n",
              "    .colab-df-container {\n",
              "      display:flex;\n",
              "      flex-wrap:wrap;\n",
              "      gap: 12px;\n",
              "    }\n",
              "\n",
              "    .colab-df-convert {\n",
              "      background-color: #E8F0FE;\n",
              "      border: none;\n",
              "      border-radius: 50%;\n",
              "      cursor: pointer;\n",
              "      display: none;\n",
              "      fill: #1967D2;\n",
              "      height: 32px;\n",
              "      padding: 0 0 0 0;\n",
              "      width: 32px;\n",
              "    }\n",
              "\n",
              "    .colab-df-convert:hover {\n",
              "      background-color: #E2EBFA;\n",
              "      box-shadow: 0px 1px 2px rgba(60, 64, 67, 0.3), 0px 1px 3px 1px rgba(60, 64, 67, 0.15);\n",
              "      fill: #174EA6;\n",
              "    }\n",
              "\n",
              "    [theme=dark] .colab-df-convert {\n",
              "      background-color: #3B4455;\n",
              "      fill: #D2E3FC;\n",
              "    }\n",
              "\n",
              "    [theme=dark] .colab-df-convert:hover {\n",
              "      background-color: #434B5C;\n",
              "      box-shadow: 0px 1px 3px 1px rgba(0, 0, 0, 0.15);\n",
              "      filter: drop-shadow(0px 1px 2px rgba(0, 0, 0, 0.3));\n",
              "      fill: #FFFFFF;\n",
              "    }\n",
              "  </style>\n",
              "\n",
              "      <script>\n",
              "        const buttonEl =\n",
              "          document.querySelector('#df-0eafa2a5-4af4-46f5-8506-536364b19b6d button.colab-df-convert');\n",
              "        buttonEl.style.display =\n",
              "          google.colab.kernel.accessAllowed ? 'block' : 'none';\n",
              "\n",
              "        async function convertToInteractive(key) {\n",
              "          const element = document.querySelector('#df-0eafa2a5-4af4-46f5-8506-536364b19b6d');\n",
              "          const dataTable =\n",
              "            await google.colab.kernel.invokeFunction('convertToInteractive',\n",
              "                                                     [key], {});\n",
              "          if (!dataTable) return;\n",
              "\n",
              "          const docLinkHtml = 'Like what you see? Visit the ' +\n",
              "            '<a target=\"_blank\" href=https://colab.research.google.com/notebooks/data_table.ipynb>data table notebook</a>'\n",
              "            + ' to learn more about interactive tables.';\n",
              "          element.innerHTML = '';\n",
              "          dataTable['output_type'] = 'display_data';\n",
              "          await google.colab.output.renderOutput(dataTable, element);\n",
              "          const docLink = document.createElement('div');\n",
              "          docLink.innerHTML = docLinkHtml;\n",
              "          element.appendChild(docLink);\n",
              "        }\n",
              "      </script>\n",
              "    </div>\n",
              "  </div>\n",
              "  "
            ]
          },
          "metadata": {},
          "execution_count": 3
        }
      ]
    },
    {
      "cell_type": "code",
      "source": [
        "# Check missing value\n",
        "df.isna().sum()"
      ],
      "metadata": {
        "colab": {
          "base_uri": "https://localhost:8080/"
        },
        "id": "NbawZ0EkWN6G",
        "outputId": "0b002538-6b09-412f-be6f-c6c9189906af"
      },
      "execution_count": null,
      "outputs": [
        {
          "output_type": "execute_result",
          "data": {
            "text/plain": [
              "Education     0\n",
              "Income       24\n",
              "dtype: int64"
            ]
          },
          "metadata": {},
          "execution_count": 4
        }
      ]
    },
    {
      "cell_type": "code",
      "source": [
        "# Check missing value ratio\n",
        "df.isna().sum() * 100 / len(df)"
      ],
      "metadata": {
        "colab": {
          "base_uri": "https://localhost:8080/"
        },
        "id": "O2FlFadLWSwi",
        "outputId": "5c4ab549-7346-4bf7-de66-ed4e0e56315a"
      },
      "execution_count": null,
      "outputs": [
        {
          "output_type": "execute_result",
          "data": {
            "text/plain": [
              "Education    0.000000\n",
              "Income       1.071429\n",
              "dtype: float64"
            ]
          },
          "metadata": {},
          "execution_count": 5
        }
      ]
    },
    {
      "cell_type": "markdown",
      "source": [
        "Since the missing value proportion is small (below than 5%), we will simply drop it."
      ],
      "metadata": {
        "id": "uKsMt1OwWkMO"
      }
    },
    {
      "cell_type": "code",
      "source": [
        "# drop missing value\n",
        "df = df.dropna()\n",
        "df.info()"
      ],
      "metadata": {
        "colab": {
          "base_uri": "https://localhost:8080/"
        },
        "id": "P_CnIHV4Wj6n",
        "outputId": "3e015b73-bdac-4ef4-9c69-863707fd54e2"
      },
      "execution_count": null,
      "outputs": [
        {
          "output_type": "stream",
          "name": "stdout",
          "text": [
            "<class 'pandas.core.frame.DataFrame'>\n",
            "Int64Index: 2216 entries, 0 to 2239\n",
            "Data columns (total 2 columns):\n",
            " #   Column     Non-Null Count  Dtype  \n",
            "---  ------     --------------  -----  \n",
            " 0   Education  2216 non-null   object \n",
            " 1   Income     2216 non-null   float64\n",
            "dtypes: float64(1), object(1)\n",
            "memory usage: 51.9+ KB\n"
          ]
        }
      ]
    },
    {
      "cell_type": "markdown",
      "source": [
        "Missing value already dropped."
      ],
      "metadata": {
        "id": "bM49lVq6WynL"
      }
    },
    {
      "cell_type": "code",
      "source": [
        "# Check value based on Education type\n",
        "count_education = df['Education'].value_counts().reset_index()\n",
        "count_education.columns = ['Education','Number_of_customer']\n",
        "sns.barplot(x=count_education['Education'],y=count_education['Number_of_customer'])\n",
        "plt.show()"
      ],
      "metadata": {
        "colab": {
          "base_uri": "https://localhost:8080/",
          "height": 279
        },
        "id": "oaXgqeZOW2V7",
        "outputId": "b904abc4-d8ca-477d-f447-d37a92802dc2"
      },
      "execution_count": null,
      "outputs": [
        {
          "output_type": "display_data",
          "data": {
            "text/plain": [
              "<Figure size 432x288 with 1 Axes>"
            ],
            "image/png": "[encoded data removed]"
          },
          "metadata": {
            "needs_background": "light"
          }
        }
      ]
    },
    {
      "cell_type": "markdown",
      "source": [
        "Based on graph, Majority customer have Graduation education level. We can order the education type in our dataset from lowest to highest level are Basic, 2n Cycle, Graduation, Master, and PhD."
      ],
      "metadata": {
        "id": "yl_a3MEBXzIC"
      }
    },
    {
      "cell_type": "markdown",
      "source": [
        "# **ANOVA Test**"
      ],
      "metadata": {
        "id": "S8Clm07gYG4v"
      }
    },
    {
      "cell_type": "markdown",
      "source": [
        "We will prove whether education has an effect on income or not. we make the following hypothesis:\n",
        "\n",
        "> Is the average income between each type of education significantly different? (criteria alpha = 0.05)\n",
        "- H0 = Education has the same average income (Education level of someone has not effect to average Income)\n",
        "- H1 = Education has a significantly different average income (Education level of someone has effect to average Income)"
      ],
      "metadata": {
        "id": "WtTeTeNNYTt7"
      }
    },
    {
      "cell_type": "code",
      "source": [
        "# Separate the data by type of Education\n",
        "df2nCycle = df[df['Education'] == '2n Cycle']\n",
        "dfBasic = df[df['Education'] == 'Basic']\n",
        "dfGraduation = df[df['Education'] == 'Graduation']\n",
        "dfMaster = df[df['Education'] == 'Master']\n",
        "dfPhD = df[df['Education'] == 'PhD']"
      ],
      "metadata": {
        "id": "diS3RqjOYBQy"
      },
      "execution_count": null,
      "outputs": []
    },
    {
      "cell_type": "code",
      "source": [
        "# ANOVA test to get P-Value\n",
        "anova_test = st.f_oneway(df2nCycle['Income'],\n",
        "dfBasic['Income'],\n",
        "dfGraduation['Income'],\n",
        "dfMaster['Income'],\n",
        "dfPhD['Income'])"
      ],
      "metadata": {
        "id": "rk-mXWWvZQbc"
      },
      "execution_count": null,
      "outputs": []
    },
    {
      "cell_type": "code",
      "source": [
        "# Check P-Value from ANOVA test\n",
        "p_value = anova_test.pvalue\n",
        "print('P-Value is', p_value)"
      ],
      "metadata": {
        "colab": {
          "base_uri": "https://localhost:8080/"
        },
        "id": "SaIP6l9cZa2M",
        "outputId": "7b23e9f0-635a-4fac-b95d-baa5a6340d21"
      },
      "execution_count": null,
      "outputs": [
        {
          "output_type": "stream",
          "name": "stdout",
          "text": [
            "P-Value is 1.6677281316366318e-22\n"
          ]
        }
      ]
    },
    {
      "cell_type": "code",
      "source": [
        "# Criteria Alpha\n",
        "Alpha = 0.05"
      ],
      "metadata": {
        "id": "7Kfl9YppaF23"
      },
      "execution_count": null,
      "outputs": []
    },
    {
      "cell_type": "code",
      "source": [
        "# ANOVA Test result\n",
        "if p_value > Alpha:\n",
        "  print('Based on p-value from ANOVA test, Education has the same average income (Education level of someone has not effect to average Income)')\n",
        "else:\n",
        "  print('Based on p-value from ANOVA test, Education has a significantly different average income (Education level of someone has effect to average Income)')"
      ],
      "metadata": {
        "colab": {
          "base_uri": "https://localhost:8080/"
        },
        "id": "N168Z0VGaYgE",
        "outputId": "4081aaaa-563e-47ad-90f3-1708b135999f"
      },
      "execution_count": null,
      "outputs": [
        {
          "output_type": "stream",
          "name": "stdout",
          "text": [
            "Based on p-value from ANOVA test, Education has a significantly different average income (Education level of someone has effect to average Income)\n"
          ]
        }
      ]
    },
    {
      "cell_type": "code",
      "source": [
        "# Final conclusion based on average income in each education type\n",
        "bo_mean = df.groupby(['Education']).mean().reset_index()\n",
        "bar_mean = sns.barplot(x=bo_mean['Education'],y=bo_mean['Income'])\n",
        "bar_mean.set(title = \"Average Income Based on Education Level\")\n",
        "plt.show(bar_mean)"
      ],
      "metadata": {
        "colab": {
          "base_uri": "https://localhost:8080/"
        },
        "id": "edyggB-XcCsJ",
        "outputId": "f8edf2f7-ca64-4d39-dd03-53c90a17e324"
      },
      "execution_count": null,
      "outputs": [
        {
          "output_type": "display_data",
          "data": {
            "text/plain": [
              "<Figure size 432x288 with 1 Axes>"
            ],
            "image/png": "[encoded data removed]"
          },
          "metadata": {
            "needs_background": "light"
          }
        }
      ]
    },
    {
      "cell_type": "markdown",
      "source": [
        "Based on ANOVA test, we accept the H1 that education has a significantly different average income, with the higher the level of education, the higher the average income of a person."
      ],
      "metadata": {
        "id": "6eJydeuqcerQ"
      }
    },
    {
      "cell_type": "markdown",
      "source": [
        "# **Conclusion**"
      ],
      "metadata": {
        "id": "yHtEiO2VckB5"
      }
    },
    {
      "cell_type": "markdown",
      "source": [
        "If we want to determine whether multiple groups differ from one another in a measurement, we could use an ANOVA test. Of course, we could use t-test to determine this, but that would require many tests. The more tests we conduct, the bigger the risk is that we come to a false conclusion. By using ANOVA, instead of looking at each individual difference, ANOVA examines the ratio of variance between groups and the variance within groups to determine whether the ratio is big enough to be statistically significant."
      ],
      "metadata": {
        "id": "9YwwUdPgcpGo"
      }
    }
  ]
}